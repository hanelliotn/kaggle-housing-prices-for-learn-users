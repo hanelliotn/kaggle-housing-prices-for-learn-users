{
 "cells": [
  {
   "cell_type": "markdown",
   "metadata": {},
   "source": [
    "# [Kaggle] Housing Prices Competition for Kaggle Learn Users\n",
    "\n",
    "This notebook is to perform a simple decision tree to predict house prices in Iowa\n",
    "\n",
    "Author: Han-Elliot Nguyen<br>Email: hanelliotn@gmail.com\n",
    "\n",
    "Start date: July 10, 2023<br>End date: July 10, 2023"
   ]
  },
  {
   "cell_type": "code",
   "execution_count": 8,
   "metadata": {},
   "outputs": [],
   "source": [
    "# Import libraries\n",
    "\n",
    "import pandas as pd\n",
    "from sklearn.ensemble import RandomForestRegressor\n",
    "from sklearn.model_selection import train_test_split\n",
    "from sklearn.metrics import mean_absolute_error\n",
    "from sklearn.impute import SimpleImputer\n"
   ]
  },
  {
   "cell_type": "code",
   "execution_count": 9,
   "metadata": {},
   "outputs": [],
   "source": [
    "# Import train and test data\n",
    "\n",
    "train_data = pd.read_csv(\"datasets/train.csv\", index_col='Id')\n",
    "test_data = pd.read_csv(\"datasets/test.csv\", index_col='Id')"
   ]
  },
  {
   "cell_type": "code",
   "execution_count": 10,
   "metadata": {},
   "outputs": [],
   "source": [
    "# Remove rows with missing target, separate target from predictors\n",
    "\n",
    "train_data.dropna(axis=0, subset=['SalePrice'], inplace=True)\n",
    "y = train_data.SalePrice\n",
    "train_data.drop(['SalePrice'], axis=1, inplace=True)"
   ]
  },
  {
   "cell_type": "code",
   "execution_count": 11,
   "metadata": {},
   "outputs": [],
   "source": [
    "# Select numerical predictors\n",
    "\n",
    "X = train_data.select_dtypes(exclude=['object'])\n",
    "X_test = test_data.select_dtypes(exclude=['object'])"
   ]
  },
  {
   "cell_type": "code",
   "execution_count": 12,
   "metadata": {},
   "outputs": [
    {
     "data": {
      "text/plain": [
       "<bound method NDFrame.head of       MSSubClass  LotFrontage  LotArea  OverallQual  OverallCond  YearBuilt  \\\n",
       "Id                                                                            \n",
       "619           20         90.0    11694            9            5       2007   \n",
       "871           20         60.0     6600            5            5       1962   \n",
       "93            30         80.0    13360            5            7       1921   \n",
       "818           20          NaN    13265            8            5       2002   \n",
       "303           20        118.0    13704            7            5       2001   \n",
       "...          ...          ...      ...          ...          ...        ...   \n",
       "764           60         82.0     9430            8            5       1999   \n",
       "836           20         60.0     9600            4            7       1950   \n",
       "1217          90         68.0     8930            6            5       1978   \n",
       "560          120          NaN     3196            7            5       2003   \n",
       "685           60         58.0    16770            7            5       1998   \n",
       "\n",
       "      YearRemodAdd  MasVnrArea  BsmtFinSF1  BsmtFinSF2  ...  GarageArea  \\\n",
       "Id                                                      ...               \n",
       "619           2007       452.0          48           0  ...         774   \n",
       "871           1962         0.0           0           0  ...         308   \n",
       "93            2006         0.0         713           0  ...         432   \n",
       "818           2002       148.0        1218           0  ...         857   \n",
       "303           2002       150.0           0           0  ...         843   \n",
       "...            ...         ...         ...         ...  ...         ...   \n",
       "764           1999       673.0        1163           0  ...         856   \n",
       "836           1995         0.0         442           0  ...         436   \n",
       "1217          1978         0.0           0           0  ...         539   \n",
       "560           2004        18.0           0           0  ...         420   \n",
       "685           1998        30.0           0           0  ...         486   \n",
       "\n",
       "      WoodDeckSF  OpenPorchSF  EnclosedPorch  3SsnPorch  ScreenPorch  \\\n",
       "Id                                                                     \n",
       "619            0          108              0          0          260   \n",
       "871            0            0              0          0            0   \n",
       "93             0            0             44          0            0   \n",
       "818          150           59              0          0            0   \n",
       "303          468           81              0          0            0   \n",
       "...          ...          ...            ...        ...          ...   \n",
       "764            0          128              0          0          180   \n",
       "836          290            0              0          0            0   \n",
       "1217           0            0              0          0            0   \n",
       "560          143           20              0          0            0   \n",
       "685            0           81              0          0            0   \n",
       "\n",
       "      PoolArea  MiscVal  MoSold  YrSold  \n",
       "Id                                       \n",
       "619          0        0       7    2007  \n",
       "871          0        0       8    2009  \n",
       "93           0        0       8    2009  \n",
       "818          0        0       7    2008  \n",
       "303          0        0       1    2006  \n",
       "...        ...      ...     ...     ...  \n",
       "764          0        0       7    2009  \n",
       "836          0        0       2    2010  \n",
       "1217         0        0       4    2010  \n",
       "560          0        0      10    2006  \n",
       "685          0        0       6    2010  \n",
       "\n",
       "[1168 rows x 36 columns]>"
      ]
     },
     "execution_count": 12,
     "metadata": {},
     "output_type": "execute_result"
    }
   ],
   "source": [
    "# Split train and test data\n",
    "\n",
    "X_train, X_valid, y_train, y_valid = train_test_split(X, y, train_size=0.8, test_size=0.2, random_state=0)"
   ]
  },
  {
   "cell_type": "code",
   "execution_count": 13,
   "metadata": {},
   "outputs": [
    {
     "name": "stdout",
     "output_type": "stream",
     "text": [
      "<bound method NDFrame.head of       MSSubClass  LotFrontage  LotArea  OverallQual  OverallCond  YearBuilt  \\\n",
      "Id                                                                            \n",
      "619           20         90.0    11694            9            5       2007   \n",
      "871           20         60.0     6600            5            5       1962   \n",
      "93            30         80.0    13360            5            7       1921   \n",
      "818           20          NaN    13265            8            5       2002   \n",
      "303           20        118.0    13704            7            5       2001   \n",
      "...          ...          ...      ...          ...          ...        ...   \n",
      "764           60         82.0     9430            8            5       1999   \n",
      "836           20         60.0     9600            4            7       1950   \n",
      "1217          90         68.0     8930            6            5       1978   \n",
      "560          120          NaN     3196            7            5       2003   \n",
      "685           60         58.0    16770            7            5       1998   \n",
      "\n",
      "      YearRemodAdd  MasVnrArea  BsmtFinSF1  BsmtFinSF2  ...  GarageArea  \\\n",
      "Id                                                      ...               \n",
      "619           2007       452.0          48           0  ...         774   \n",
      "871           1962         0.0           0           0  ...         308   \n",
      "93            2006         0.0         713           0  ...         432   \n",
      "818           2002       148.0        1218           0  ...         857   \n",
      "303           2002       150.0           0           0  ...         843   \n",
      "...            ...         ...         ...         ...  ...         ...   \n",
      "764           1999       673.0        1163           0  ...         856   \n",
      "836           1995         0.0         442           0  ...         436   \n",
      "1217          1978         0.0           0           0  ...         539   \n",
      "560           2004        18.0           0           0  ...         420   \n",
      "685           1998        30.0           0           0  ...         486   \n",
      "\n",
      "      WoodDeckSF  OpenPorchSF  EnclosedPorch  3SsnPorch  ScreenPorch  \\\n",
      "Id                                                                     \n",
      "619            0          108              0          0          260   \n",
      "871            0            0              0          0            0   \n",
      "93             0            0             44          0            0   \n",
      "818          150           59              0          0            0   \n",
      "303          468           81              0          0            0   \n",
      "...          ...          ...            ...        ...          ...   \n",
      "764            0          128              0          0          180   \n",
      "836          290            0              0          0            0   \n",
      "1217           0            0              0          0            0   \n",
      "560          143           20              0          0            0   \n",
      "685            0           81              0          0            0   \n",
      "\n",
      "      PoolArea  MiscVal  MoSold  YrSold  \n",
      "Id                                       \n",
      "619          0        0       7    2007  \n",
      "871          0        0       8    2009  \n",
      "93           0        0       8    2009  \n",
      "818          0        0       7    2008  \n",
      "303          0        0       1    2006  \n",
      "...        ...      ...     ...     ...  \n",
      "764          0        0       7    2009  \n",
      "836          0        0       2    2010  \n",
      "1217         0        0       4    2010  \n",
      "560          0        0      10    2006  \n",
      "685          0        0       6    2010  \n",
      "\n",
      "[1168 rows x 36 columns]>\n",
      "(1168, 36)\n"
     ]
    }
   ],
   "source": [
    "# Display train data\n",
    "\n",
    "print(X_train.head)\n",
    "print(X_train.shape)"
   ]
  },
  {
   "cell_type": "code",
   "execution_count": 14,
   "metadata": {},
   "outputs": [
    {
     "name": "stdout",
     "output_type": "stream",
     "text": [
      "LotFrontage    212\n",
      "MasVnrArea       6\n",
      "GarageYrBlt     58\n",
      "dtype: int64\n"
     ]
    }
   ],
   "source": [
    "# Check the number of missing values in each column of training data (if any)\n",
    "\n",
    "missing_val_count_by_column = (X_train.isnull().sum())\n",
    "print(missing_val_count_by_column[missing_val_count_by_column > 0])"
   ]
  },
  {
   "cell_type": "code",
   "execution_count": 15,
   "metadata": {},
   "outputs": [],
   "source": [
    "# Since the data has missing values, perform imputation towards the train and test data\n",
    "\n",
    "final_imputer = SimpleImputer(strategy='constant', fill_value=0)\n",
    "final_X_train = pd.DataFrame(final_imputer.fit_transform(X_train))\n",
    "final_X_valid = pd.DataFrame(final_imputer.fit_transform(X_valid))"
   ]
  },
  {
   "cell_type": "code",
   "execution_count": null,
   "metadata": {},
   "outputs": [],
   "source": [
    "# Define and fit the model\n",
    "\n",
    "model = RandomForestRegressor(n_estimators=100, random_state=0)\n",
    "model.fit(final_X_train, y_train)"
   ]
  }
 ],
 "metadata": {
  "kernelspec": {
   "display_name": "Python 3",
   "language": "python",
   "name": "python3"
  },
  "language_info": {
   "codemirror_mode": {
    "name": "ipython",
    "version": 3
   },
   "file_extension": ".py",
   "mimetype": "text/x-python",
   "name": "python",
   "nbconvert_exporter": "python",
   "pygments_lexer": "ipython3",
   "version": "3.9.6"
  },
  "orig_nbformat": 4
 },
 "nbformat": 4,
 "nbformat_minor": 2
}
